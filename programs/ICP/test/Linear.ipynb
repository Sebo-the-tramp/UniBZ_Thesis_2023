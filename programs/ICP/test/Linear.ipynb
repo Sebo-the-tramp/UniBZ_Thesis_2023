{
 "cells": [
  {
   "cell_type": "code",
   "execution_count": 121,
   "metadata": {},
   "outputs": [],
   "source": [
    "# libraries\n",
    "\n",
    "import numpy as np\n",
    "from utils import *\n",
    "from geomutils import *\n",
    "from scipy.spatial.transform import Rotation as R\n",
    "import matplotlib.pyplot as plt"
   ]
  },
  {
   "cell_type": "code",
   "execution_count": 122,
   "metadata": {},
   "outputs": [],
   "source": [
    "# apposto\n",
    "\n",
    "def errorAndJacobian(x, P, Z):\n",
    "    \n",
    "    M = np.zeros((3,9))\n",
    "    M[0, :3] = P[:3]\n",
    "    M[1,3:6] = P[:3]\n",
    "    M[2, 6:] = P[:3]\n",
    "\n",
    "    h = np.dot(M, x[:9]) + x[9:] # 3x9 * 9x1 + 3x1 = 3x1    \n",
    "    \n",
    "    e = h - Z\n",
    "\n",
    "    J = np.zeros((3,12))\n",
    "    J[:3, :9] = M\n",
    "    J[:3, 9:] = np.eye(3)    \n",
    "\n",
    "    return e, J"
   ]
  },
  {
   "cell_type": "code",
   "execution_count": 126,
   "metadata": {},
   "outputs": [],
   "source": [
    "def doICP(x_guess, points, Z):        \n",
    "    x = x_guess.copy()\n",
    "    H = np.zeros((12,12))\n",
    "    b = np.zeros((12))        \n",
    "\n",
    "    for j in range(points.shape[0]):\n",
    "        e, J = errorAndJacobian(x, points[j,:], Z[j,:])\n",
    "        H += J.T @ J\n",
    "        b += J.T @ e\n",
    "\n",
    "    dx = - np.linalg.solve(H, b.T)\n",
    "    #print(\"dx\\n\", dx)\n",
    "    x += dx.T    \n",
    "\n",
    "    A = np.concatenate((x[:3], x[3:6], x[6:9]))\n",
    "    \n",
    "    A = A.reshape((3,3))\n",
    "    #print(\"R\\n\", A)\n",
    "\n",
    "    u, s, vh = np.linalg.svd(A, full_matrices=True)\n",
    "\n",
    "    # if s is a diagonal matrix with 1s on the diagonal, then the matrix R is a rotation matrix\n",
    "\n",
    "    res = np.allclose(A, np.dot(u*s, vh))\n",
    "    #print(\"res\", res)\n",
    "\n",
    "    R = np.dot(u, vh)    \n",
    "    t = x[9:]\n",
    "\n",
    "    return R, t"
   ]
  },
  {
   "cell_type": "code",
   "execution_count": 129,
   "metadata": {},
   "outputs": [
    {
     "name": "stdout",
     "output_type": "stream",
     "text": [
      "X_true\n",
      " [[-8.66025404e-01 -1.06057524e-16  5.00000000e-01  0.00000000e+00]\n",
      " [-5.00000000e-01 -1.22464680e-16 -8.66025404e-01  0.00000000e+00]\n",
      " [ 1.53080850e-16 -1.00000000e+00  5.30287619e-17  0.00000000e+00]\n",
      " [ 0.00000000e+00  0.00000000e+00  0.00000000e+00  1.00000000e+00]]\n",
      "[[ 0.05834117 -1.06205698 -0.69895365]\n",
      " [-0.49983643 -0.53372943 -0.78112834]\n",
      " [ 0.18535673 -0.41924053 -0.46267826]\n",
      " [-0.01119928 -0.88418789 -0.75305574]\n",
      " [-0.79340953 -0.52496877 -0.22559516]]\n"
     ]
    }
   ],
   "source": [
    "## data\n",
    "\n",
    "n_points = 5\n",
    "\n",
    "# Generate random points in 3d\n",
    "points = np.random.random((n_points, 3))\n",
    "\n",
    "# ideal position of the world in respect to the robot, in our case the HMD\n",
    "x_true = np.array([0, 0, 0, np.pi/2, np.pi/6, np.pi])\n",
    "X_true = v2t(x_true)\n",
    "print(\"X_true\\n\", X_true)\n",
    "#print(\"X_True\\n\", X_true)\n",
    "\n",
    "# test with good initial guess\n",
    "x_gg = np.array([0.5, 0.5, 0.5, 0.1, 0.1, 0.1])\n",
    "\n",
    "x_guess = x_true + x_gg\n",
    "#print(\"x_guess\\n\", x_guess)\n",
    "X_guess = v2t(x_guess)\n",
    "#print(\"X_guess\\n\", X_guess)\n",
    "\n",
    "R_guess = X_guess[:3, :3]\n",
    "\n",
    "guess = np.reshape(R_guess, (9))\n",
    "guess = np.append(guess, X_guess[:3, 3])\n",
    "# correct guess\n",
    "\n",
    "n_points = points.shape[0]\n",
    "P_world_hom = np.ones((n_points, 4))\n",
    "P_world_hom[:, :3] = points\n",
    "#print(\"P_world_hom\\n\", P_world_hom)\n",
    "Z_hom = np.dot(X_true, P_world_hom.T)\n",
    "#print(\"Z_hom\\n\", Z_hom)\n",
    "Z = Z_hom[:3, :].T\n",
    "\n",
    "print(Z)"
   ]
  },
  {
   "cell_type": "code",
   "execution_count": 130,
   "metadata": {},
   "outputs": [
    {
     "name": "stdout",
     "output_type": "stream",
     "text": [
      "Ground truth\n",
      " [[-8.66025404e-01 -1.06057524e-16  5.00000000e-01  0.00000000e+00]\n",
      " [-5.00000000e-01 -1.22464680e-16 -8.66025404e-01  0.00000000e+00]\n",
      " [ 1.53080850e-16 -1.00000000e+00  5.30287619e-17  0.00000000e+00]\n",
      " [ 0.00000000e+00  0.00000000e+00  0.00000000e+00  1.00000000e+00]]\n",
      "R\n",
      " [[-8.66025404e-01 -7.33014689e-16  5.00000000e-01]\n",
      " [-5.00000000e-01  3.10830784e-16 -8.66025404e-01]\n",
      " [ 4.71844785e-16 -1.00000000e+00 -9.67669439e-16]]\n",
      "t\n",
      " [-1.11022302e-16 -8.88178420e-16 -1.11022302e-16]\n"
     ]
    }
   ],
   "source": [
    "### CORE ###\n",
    "R, t = doICP(guess, points, Z)\n",
    "\n",
    "## print results\n",
    "print(\"Ground truth\\n\", X_true)\n",
    "\n",
    "print(\"R\\n\", R)\n",
    "print(\"t\\n\", t)\n"
   ]
  },
  {
   "cell_type": "code",
   "execution_count": null,
   "metadata": {},
   "outputs": [],
   "source": []
  }
 ],
 "metadata": {
  "kernelspec": {
   "display_name": "Python 3",
   "language": "python",
   "name": "python3"
  },
  "language_info": {
   "codemirror_mode": {
    "name": "ipython",
    "version": 3
   },
   "file_extension": ".py",
   "mimetype": "text/x-python",
   "name": "python",
   "nbconvert_exporter": "python",
   "pygments_lexer": "ipython3",
   "version": "3.10.8"
  },
  "orig_nbformat": 4,
  "vscode": {
   "interpreter": {
    "hash": "601f5b30d63e3cd2876ef166fca57125eab4dd3efa44e3e75e79d4ca17c822ed"
   }
  }
 },
 "nbformat": 4,
 "nbformat_minor": 2
}
